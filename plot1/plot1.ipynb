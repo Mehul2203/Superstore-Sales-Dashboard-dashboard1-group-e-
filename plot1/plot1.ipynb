{
 "cells": [
  {
   "cell_type": "code",
   "execution_count": 1,
   "id": "406d4353-285d-4a18-bea0-8ea23978cb25",
   "metadata": {},
   "outputs": [],
   "source": [
    "# loading libraries\n",
    "from dash import Dash, html, dcc\n",
    "from dash.dependencies import Input, Output\n",
    "import plotly.graph_objects as go\n",
    "import pandas as pd\n",
    "import dash_bootstrap_components as dbc\n",
    "\n",
    "# loading dataset\n",
    "df = pd.read_csv(\"Superstore.csv\")\n",
    "\n",
    "# data wrangling required for the plot\n",
    "df = df.drop_duplicates()\n",
    "df = df.drop(df[df.Profit == -6599.9780].index)\n",
    "df_furniture = df[df[\"Category\"]==\"Furniture\"]\n",
    "df_office = df[df[\"Category\"]==\"Office Supplies\"]\n",
    "df_tech = df[df[\"Category\"]==\"Technology\"]\n",
    "dff = df_furniture[[\"Sub-Category\", \"Sales\", \"Profit\"]]\n",
    "df_furniture = dff.groupby('Sub-Category').sum().reset_index()\n",
    "dfo = df_office[[\"Sub-Category\", \"Sales\", \"Profit\"]]\n",
    "df_office = dfo.groupby('Sub-Category').sum().reset_index()\n",
    "dft = df_tech[[\"Sub-Category\", \"Sales\", \"Profit\"]]\n",
    "df_tech = dft.groupby('Sub-Category').sum().reset_index()\n",
    "\n",
    "#creating lists for plot\n",
    "catf = df_furniture['Sub-Category'].tolist()\n",
    "fsales = df_furniture['Sales'].tolist()\n",
    "fprofit = df_furniture['Profit'].tolist()\n",
    "cato = df_office['Sub-Category'].tolist()\n",
    "osales = df_office['Sales'].tolist()\n",
    "oprofit = df_office['Profit'].tolist()\n",
    "catt = df_tech['Sub-Category'].tolist()\n",
    "tsales = df_tech['Sales'].tolist()\n",
    "tprofit = df_tech['Profit'].tolist()\n",
    "ls = [\"Furniture\", \"Office Supplies\", \"Technology\"]\n",
    "\n",
    "app = Dash(__name__)    #initialising dash app\n",
    "app.config['suppress_callback_exceptions'] = True  # to avoid warnings \n",
    "app.layout = html.Div(dbc.Container([   # here, I have created a container to stack plot and dropdown\n",
    "    dbc.Col([\n",
    "        dbc.Row([\n",
    "            dcc.Dropdown(\n",
    "        id='category-widget',  # ID for dropdown\n",
    "        value='Furniture',  \n",
    "        options=[{'label': col, 'value': col} for col in ls], placeholder=\"Select a category\")], style={'width':'22.5%', \n",
    "        \"font-weight\": \"bold\", 'padding-left' : '475px'}),  # styling for dropdown\n",
    "        dbc.Row(\n",
    "            html.Iframe(\n",
    "        id='barchart',    # ID for bar chart\n",
    "        style={'border-width': '0', 'width': '100%', 'height': '500px'}))])]), # styling for plot\n",
    "        style={'width':'50%',\"border\":\"6px lightgray solid\"}) # styling for overall dashboard\n",
    "   \n",
    "\n",
    "@app.callback(          # dash decorator function\n",
    "    Output('barchart', 'srcDoc'),\n",
    "    Input('category-widget', 'value'))     \n",
    "\n",
    "def my_plot(category):            # callback function\n",
    "    \n",
    "    if category == \"Furniture\":\n",
    "        cat=catf\n",
    "        cat_sales=fsales\n",
    "        cat_profit=fprofit\n",
    "    elif category == \"Office Supplies\":\n",
    "        cat=cato\n",
    "        cat_sales=osales\n",
    "        cat_profit=oprofit\n",
    "    else:\n",
    "        cat=catt\n",
    "        cat_sales=tsales\n",
    "        cat_profit=tprofit\n",
    "    \n",
    "    fig = go.Figure()\n",
    "    fig.add_trace(go.Bar(\n",
    "    x=cat,\n",
    "    y=cat_sales,\n",
    "    name='Sales',\n",
    "    marker_color='red'\n",
    "    ))\n",
    "    fig.add_trace(go.Bar(\n",
    "    x=cat,\n",
    "    y=cat_profit,\n",
    "    name='Profit',\n",
    "    marker_color='midnightblue'\n",
    "    ))\n",
    "\n",
    "    fig.update_layout(barmode='group', xaxis_tickangle=0, title=\"Overall Sales & Profit by Category\", \n",
    "                  title_font_size=25, title_x=0.339, title_y=0.96, xaxis_title=\"Sub-categories\", \n",
    "                  margin=dict(l=20, r=20, t=45, b=9), plot_bgcolor=\"white\", \n",
    "                 legend=dict(y=0.6, font_size=15), xaxis = dict(tickfont = dict(size=10)), hovermode=\"x unified\") # styling for plot\n",
    "    fig.update_yaxes(tickprefix=\"<b>\",ticksuffix =\"</b><br>\")\n",
    "    fig.update_xaxes(tickprefix=\"<b>\",ticksuffix =\"</b><br>\")\n",
    "    \n",
    "    return fig.to_html()       \n"
   ]
  },
  {
   "cell_type": "code",
   "execution_count": 3,
   "id": "832e90bc-d266-42a6-ad7f-b7d7c11f2760",
   "metadata": {},
   "outputs": [
    {
     "name": "stdout",
     "output_type": "stream",
     "text": [
      "Dash is running on http://127.0.0.1:8052/\n",
      "\n",
      " * Serving Flask app '__main__' (lazy loading)\n",
      " * Environment: production\n",
      "\u001b[31m   WARNING: This is a development server. Do not use it in a production deployment.\u001b[0m\n",
      "\u001b[2m   Use a production WSGI server instead.\u001b[0m\n",
      " * Debug mode: on\n"
     ]
    },
    {
     "ename": "SystemExit",
     "evalue": "1",
     "output_type": "error",
     "traceback": [
      "An exception has occurred, use %tb to see the full traceback.\n",
      "\u001b[1;31mSystemExit\u001b[0m\u001b[1;31m:\u001b[0m 1\n"
     ]
    }
   ],
   "source": [
    "if __name__ == '__main__':\n",
    "    app.run_server(port=8052, debug=True)"
   ]
  },
  {
   "cell_type": "code",
   "execution_count": null,
   "id": "55ad8e03-0cdd-4a9d-b7d5-c275fefa03d9",
   "metadata": {},
   "outputs": [],
   "source": []
  }
 ],
 "metadata": {
  "kernelspec": {
   "display_name": "Python 3 (ipykernel)",
   "language": "python",
   "name": "python3"
  },
  "language_info": {
   "codemirror_mode": {
    "name": "ipython",
    "version": 3
   },
   "file_extension": ".py",
   "mimetype": "text/x-python",
   "name": "python",
   "nbconvert_exporter": "python",
   "pygments_lexer": "ipython3",
   "version": "3.9.5"
  }
 },
 "nbformat": 4,
 "nbformat_minor": 5
}
